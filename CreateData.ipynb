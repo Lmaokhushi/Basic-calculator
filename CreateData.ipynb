{
  "nbformat": 4,
  "nbformat_minor": 0,
  "metadata": {
    "colab": {
      "name": "CreateData.ipynb",
      "provenance": [],
      "authorship_tag": "ABX9TyMpauAL0DMKUZK7Ma/4C7su",
      "include_colab_link": true
    },
    "kernelspec": {
      "name": "python3",
      "display_name": "Python 3"
    },
    "language_info": {
      "name": "python"
    }
  },
  "cells": [
    {
      "cell_type": "markdown",
      "metadata": {
        "id": "view-in-github",
        "colab_type": "text"
      },
      "source": [
        "<a href=\"https://colab.research.google.com/github/Lmaokhushi/Basic-calculator/blob/main/CreateData.ipynb\" target=\"_parent\"><img src=\"https://colab.research.google.com/assets/colab-badge.svg\" alt=\"Open In Colab\"/></a>"
      ]
    },
    {
      "cell_type": "code",
      "execution_count": 19,
      "metadata": {
        "colab": {
          "base_uri": "https://localhost:8080/",
          "height": 208
        },
        "id": "agqyB2UWMdvc",
        "outputId": "32d2a643-e24a-4b94-a9ea-345a0771f9a2"
      },
      "outputs": [
        {
          "output_type": "display_data",
          "data": {
            "text/html": [
              "        <script type=\"text/javascript\">\n",
              "        window.PlotlyConfig = {MathJaxConfig: 'local'};\n",
              "        if (window.MathJax) {MathJax.Hub.Config({SVG: {font: \"STIX-Web\"}});}\n",
              "        if (typeof require !== 'undefined') {\n",
              "        require.undef(\"plotly\");\n",
              "        requirejs.config({\n",
              "            paths: {\n",
              "                'plotly': ['https://cdn.plot.ly/plotly-2.8.3.min']\n",
              "            }\n",
              "        });\n",
              "        require(['plotly'], function(Plotly) {\n",
              "            window._Plotly = Plotly;\n",
              "        });\n",
              "        }\n",
              "        </script>\n",
              "        "
            ]
          },
          "metadata": {}
        },
        {
          "output_type": "display_data",
          "data": {
            "text/html": [
              "        <script type=\"text/javascript\">\n",
              "        window.PlotlyConfig = {MathJaxConfig: 'local'};\n",
              "        if (window.MathJax) {MathJax.Hub.Config({SVG: {font: \"STIX-Web\"}});}\n",
              "        if (typeof require !== 'undefined') {\n",
              "        require.undef(\"plotly\");\n",
              "        requirejs.config({\n",
              "            paths: {\n",
              "                'plotly': ['https://cdn.plot.ly/plotly-2.8.3.min']\n",
              "            }\n",
              "        });\n",
              "        require(['plotly'], function(Plotly) {\n",
              "            window._Plotly = Plotly;\n",
              "        });\n",
              "        }\n",
              "        </script>\n",
              "        "
            ]
          },
          "metadata": {}
        },
        {
          "output_type": "stream",
          "name": "stdout",
          "text": [
            "Select the type of data that you want to plot \n",
            "Choose one of the three options given below\n",
            "1.Random data with 5 rows and 5 columns\n",
            "2.Customize dataframe with 5 columns and 4 rows\n",
            "1\n",
            "          A         B         C         D         E\n",
            "0  0.398489  0.437239  0.611517  0.943969  0.900339\n",
            "1  0.855066  0.609214  0.703318  0.143346  0.494656\n",
            "2  0.075178  0.516368  0.249064  0.863088  0.422360\n",
            "3  0.722174  0.128983  0.182506  0.296131  0.567392\n",
            "4  0.508015  0.428108  0.387321  0.678466  0.064775\n"
          ]
        }
      ],
      "source": [
        "import numpy as np\n",
        "import pandas as pd\n",
        "\n",
        "def data(a):\n",
        "  if (a==1):\n",
        "    x = np.random.rand(5,5)\n",
        "    dataframe1 = pd.DataFrame(x,columns=['A','B','C','D','E'])\n",
        "  elif(a == 2):\n",
        "        x = [0,0,0,0,0]\n",
        "        r1= [0,0,0,0,0]\n",
        "        r2= [0,0,0,0,0]\n",
        "        r3= [0,0,0,0,0]\n",
        "        r4= [0,0,0,0,0]\n",
        "        print('Enter the values for columns: ')\n",
        "        i=0\n",
        "        for i in [0,1,2,3,4]:\n",
        "            x[i] = input()\n",
        "            i = i + 1\n",
        "        print('Enter the values for first row: ')\n",
        "        i=0\n",
        "        for i in [0,1,2,3,4]:\n",
        "            r1[i] = int(input())\n",
        "            i = i + 1\n",
        "        print('Enter the values for second row: ')\n",
        "        i=0\n",
        "        for i in [0,1,2,3,4]:\n",
        "            r2[i] = int(input())\n",
        "            i = i + 1\n",
        "        print('Enter the values for third row: ')\n",
        "        i=0\n",
        "        for i in [0,1,2,3,4]:\n",
        "            r3[i] = int(input())\n",
        "            i = i + 1\n",
        "        print('Enter the values for fourth row: ')\n",
        "        i=0\n",
        "        for i in [0,1,2,3,4]:\n",
        "            r4[i] = int(input())\n",
        "            i = i + 1\n",
        "        dataframe1 = pd.DataFrame([r1,r2,r3,r4] , columns = x)\n",
        "  else:\n",
        "        print('DataFrame creation failed please enter 1 or 2 and try again')\n",
        "  print(dataframe1)\n",
        "\n",
        "\n",
        "print(\"Select the type of data that you want to plot \\nChoose one of the three options given below\")\n",
        "print('1.Random data with 5 rows and 5 columns')\n",
        "print('2.Customize dataframe with 5 columns and 4 rows')\n",
        "a = int(input())\n",
        "dataframe1 = data(a)"
      ]
    }
  ]
}